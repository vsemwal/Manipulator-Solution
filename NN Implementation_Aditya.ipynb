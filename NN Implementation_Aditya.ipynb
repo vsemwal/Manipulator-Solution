{
 "cells": [
  {
   "cell_type": "code",
   "execution_count": 16,
   "metadata": {},
   "outputs": [],
   "source": [
    "import math as m\n",
    "import random\n",
    "import csv\n",
    "import matplotlib.pyplot as plt\n",
    "import pandas as pd\n",
    "from sklearn.model_selection import train_test_split\n",
    "import tensorflow.compat.v1 as tf\n",
    "tf.disable_v2_behavior()\n",
    "import keras\n",
    "from keras.models import Sequential\n",
    "from keras.layers import Dense\n",
    "from keras import regularizers\n",
    "import numpy as np\n",
    "import statsmodels.regression.linear_model as sm\n",
    "import time\n",
    "\n",
    "# length of manipulators\n",
    "l1 = l2 = l3 = 7"
   ]
  },
  {
   "cell_type": "code",
   "execution_count": 2,
   "metadata": {},
   "outputs": [],
   "source": [
    "## Generating dataset for training\n",
    "def threeLinkManipulatorFile():\n",
    "    with open('threeLink.csv', 'w') as csvFile:\n",
    "        row = ['q1','q2','q3','xe','ye','thetae']\n",
    "        csv.writer(csvFile).writerow(row)\n",
    "        for i in range(1, 100000):\n",
    "            \n",
    "            q1 = round(random.uniform(0,m.pi),2)\n",
    "            q2= round(random.uniform(-m.pi, 0),2)\n",
    "            q3= round(random.uniform(-m.pi/2,m.pi/2))\n",
    "            \n",
    "            thetae=round(m.degrees(q1)+m.degrees(q2)+m.degrees(q3),2)\n",
    "            xe= round(l1*m.cos(q1)+ l2*m.cos(q1+q2)+ l3*m.cos(q1+q2+q3),2)\n",
    "            ye= round(l1*m.sin(q1)+ l2*m.sin(q1+q2)+ l3*m.sin(q1+q2+q3),2)\n",
    "            \n",
    "            \n",
    "            row = [q1,q2,q3,xe,ye,thetae]\n",
    "            csv.writer(csvFile).writerow(row)\n",
    "                \n",
    "    csvFile.close()\n",
    "    \n",
    "# threeLinkManipulatorFile()"
   ]
  },
  {
   "cell_type": "code",
   "execution_count": 3,
   "metadata": {},
   "outputs": [
    {
     "name": "stdout",
     "output_type": "stream",
     "text": [
      "(99999, 6)\n"
     ]
    },
    {
     "data": {
      "image/png": "[encoded data removed]",
      "text/plain": [
       "<Figure size 432x288 with 1 Axes>"
      ]
     },
     "metadata": {
      "needs_background": "light"
     },
     "output_type": "display_data"
    },
    {
     "name": "stdout",
     "output_type": "stream",
     "text": [
      "WARNING:tensorflow:From E:\\Anaconda3\\envs\\neuralnetworkGPU\\lib\\site-packages\\keras\\backend\\tensorflow_backend.py:422: The name tf.global_variables is deprecated. Please use tf.compat.v1.global_variables instead.\n",
      "\n",
      "Train on 76499 samples, validate on 8500 samples\n",
      "Epoch 1/50\n",
      "76499/76499 [==============================] - 7s 87us/step - loss: 0.2329 - accuracy: 0.9183 - val_loss: 0.0818 - val_accuracy: 0.9298\n",
      "Epoch 2/50\n",
      "76499/76499 [==============================] - 6s 83us/step - loss: 0.0600 - accuracy: 0.9338 - val_loss: 0.0509 - val_accuracy: 0.9408\n",
      "Epoch 3/50\n",
      "76499/76499 [==============================] - 6s 83us/step - loss: 0.0468 - accuracy: 0.9441 - val_loss: 0.0407 - val_accuracy: 0.9485\n",
      "Epoch 4/50\n",
      "76499/76499 [==============================] - 7s 86us/step - loss: 0.0396 - accuracy: 0.9510 - val_loss: 0.0335 - val_accuracy: 0.9579\n",
      "Epoch 5/50\n",
      "76499/76499 [==============================] - 6s 83us/step - loss: 0.0356 - accuracy: 0.9551 - val_loss: 0.0328 - val_accuracy: 0.9605\n",
      "Epoch 6/50\n",
      "76499/76499 [==============================] - 7s 87us/step - loss: 0.0328 - accuracy: 0.9587 - val_loss: 0.0305 - val_accuracy: 0.9608\n",
      "Epoch 7/50\n",
      "76499/76499 [==============================] - 8s 105us/step - loss: 0.0310 - accuracy: 0.9615 - val_loss: 0.0276 - val_accuracy: 0.9646\n",
      "Epoch 8/50\n",
      "76499/76499 [==============================] - 7s 91us/step - loss: 0.0298 - accuracy: 0.9636 - val_loss: 0.0339 - val_accuracy: 0.9693\n",
      "Epoch 9/50\n",
      "76499/76499 [==============================] - 7s 91us/step - loss: 0.0284 - accuracy: 0.9656 - val_loss: 0.0263 - val_accuracy: 0.9687\n",
      "Epoch 10/50\n",
      "76499/76499 [==============================] - 6s 84us/step - loss: 0.0275 - accuracy: 0.9674 - val_loss: 0.0269 - val_accuracy: 0.9629\n",
      "Epoch 11/50\n",
      "76499/76499 [==============================] - 7s 87us/step - loss: 0.0266 - accuracy: 0.9682 - val_loss: 0.0255 - val_accuracy: 0.9786\n",
      "Epoch 12/50\n",
      "76499/76499 [==============================] - 7s 86us/step - loss: 0.0254 - accuracy: 0.9702 - val_loss: 0.0248 - val_accuracy: 0.9716\n",
      "Epoch 13/50\n",
      "76499/76499 [==============================] - 7s 87us/step - loss: 0.0246 - accuracy: 0.9705 - val_loss: 0.0223 - val_accuracy: 0.9701\n",
      "Epoch 14/50\n",
      "76499/76499 [==============================] - 7s 87us/step - loss: 0.0239 - accuracy: 0.9703 - val_loss: 0.0213 - val_accuracy: 0.9738\n",
      "Epoch 15/50\n",
      "76499/76499 [==============================] - 7s 93us/step - loss: 0.0235 - accuracy: 0.9704 - val_loss: 0.0202 - val_accuracy: 0.9738\n",
      "Epoch 16/50\n",
      "76499/76499 [==============================] - 7s 88us/step - loss: 0.0229 - accuracy: 0.9709 - val_loss: 0.0254 - val_accuracy: 0.9771\n",
      "Epoch 17/50\n",
      "76499/76499 [==============================] - 7s 86us/step - loss: 0.0226 - accuracy: 0.9705 - val_loss: 0.0221 - val_accuracy: 0.9705\n",
      "Epoch 18/50\n",
      "76499/76499 [==============================] - 7s 90us/step - loss: 0.0222 - accuracy: 0.9705 - val_loss: 0.0214 - val_accuracy: 0.9725\n",
      "Epoch 19/50\n",
      "76499/76499 [==============================] - 7s 96us/step - loss: 0.0221 - accuracy: 0.9714 - val_loss: 0.0198 - val_accuracy: 0.9766\n",
      "Epoch 20/50\n",
      "76499/76499 [==============================] - 7s 90us/step - loss: 0.0218 - accuracy: 0.9710 - val_loss: 0.0193 - val_accuracy: 0.9772\n",
      "Epoch 21/50\n",
      "76499/76499 [==============================] - 8s 100us/step - loss: 0.0215 - accuracy: 0.9712 - val_loss: 0.0199 - val_accuracy: 0.9728\n",
      "Epoch 22/50\n",
      "76499/76499 [==============================] - 7s 93us/step - loss: 0.0211 - accuracy: 0.9712 - val_loss: 0.0199 - val_accuracy: 0.9675\n",
      "Epoch 23/50\n",
      "76499/76499 [==============================] - 7s 91us/step - loss: 0.0207 - accuracy: 0.9714 - val_loss: 0.0179 - val_accuracy: 0.9822\n",
      "Epoch 24/50\n",
      "76499/76499 [==============================] - 7s 91us/step - loss: 0.0207 - accuracy: 0.9717 - val_loss: 0.0195 - val_accuracy: 0.9702\n",
      "Epoch 25/50\n",
      "76499/76499 [==============================] - 7s 92us/step - loss: 0.0207 - accuracy: 0.9719 - val_loss: 0.0187 - val_accuracy: 0.9720\n",
      "Epoch 26/50\n",
      "76499/76499 [==============================] - 7s 97us/step - loss: 0.0203 - accuracy: 0.9721 - val_loss: 0.0193 - val_accuracy: 0.9802\n",
      "Epoch 27/50\n",
      "76499/76499 [==============================] - 7s 94us/step - loss: 0.0202 - accuracy: 0.9724 - val_loss: 0.0204 - val_accuracy: 0.9764\n",
      "Epoch 28/50\n",
      "76499/76499 [==============================] - 7s 94us/step - loss: 0.0198 - accuracy: 0.9725 - val_loss: 0.0191 - val_accuracy: 0.9746\n",
      "Epoch 29/50\n",
      "76499/76499 [==============================] - 7s 90us/step - loss: 0.0200 - accuracy: 0.9713 - val_loss: 0.0216 - val_accuracy: 0.9789\n",
      "Epoch 30/50\n",
      "76499/76499 [==============================] - 7s 96us/step - loss: 0.0197 - accuracy: 0.9715 - val_loss: 0.0173 - val_accuracy: 0.9735\n",
      "Epoch 31/50\n",
      "76499/76499 [==============================] - 8s 100us/step - loss: 0.0197 - accuracy: 0.9718 - val_loss: 0.0179 - val_accuracy: 0.9795\n",
      "Epoch 32/50\n",
      "76499/76499 [==============================] - 7s 93us/step - loss: 0.0195 - accuracy: 0.9723 - val_loss: 0.0195 - val_accuracy: 0.9764\n",
      "Epoch 33/50\n",
      "76499/76499 [==============================] - 7s 94us/step - loss: 0.0194 - accuracy: 0.9728 - val_loss: 0.0191 - val_accuracy: 0.9752\n",
      "Epoch 34/50\n",
      "76499/76499 [==============================] - 7s 94us/step - loss: 0.0192 - accuracy: 0.9724 - val_loss: 0.0170 - val_accuracy: 0.9798\n",
      "Epoch 35/50\n",
      "76499/76499 [==============================] - 7s 92us/step - loss: 0.0194 - accuracy: 0.9722 - val_loss: 0.0202 - val_accuracy: 0.9742\n",
      "Epoch 36/50\n",
      "76499/76499 [==============================] - 7s 95us/step - loss: 0.0191 - accuracy: 0.9719 - val_loss: 0.0183 - val_accuracy: 0.9718\n",
      "Epoch 37/50\n",
      "76499/76499 [==============================] - 7s 97us/step - loss: 0.0192 - accuracy: 0.9723 - val_loss: 0.0168 - val_accuracy: 0.9804\n",
      "Epoch 38/50\n",
      "76499/76499 [==============================] - 7s 95us/step - loss: 0.0190 - accuracy: 0.9724 - val_loss: 0.0268 - val_accuracy: 0.9747\n",
      "Epoch 39/50\n",
      "76499/76499 [==============================] - 7s 96us/step - loss: 0.0188 - accuracy: 0.9724 - val_loss: 0.0174 - val_accuracy: 0.9758\n",
      "Epoch 40/50\n",
      "76499/76499 [==============================] - 8s 101us/step - loss: 0.0186 - accuracy: 0.9720 - val_loss: 0.0173 - val_accuracy: 0.9698\n",
      "Epoch 41/50\n",
      "76499/76499 [==============================] - 7s 95us/step - loss: 0.0185 - accuracy: 0.9727 - val_loss: 0.0212 - val_accuracy: 0.9772\n",
      "Epoch 42/50\n",
      "76499/76499 [==============================] - 7s 97us/step - loss: 0.0187 - accuracy: 0.9728 - val_loss: 0.0171 - val_accuracy: 0.9807\n",
      "Epoch 43/50\n",
      "76499/76499 [==============================] - 7s 95us/step - loss: 0.0185 - accuracy: 0.9723 - val_loss: 0.0172 - val_accuracy: 0.9771\n",
      "Epoch 44/50\n",
      "76499/76499 [==============================] - 7s 95us/step - loss: 0.0185 - accuracy: 0.9726 - val_loss: 0.0166 - val_accuracy: 0.9799\n",
      "Epoch 45/50\n",
      "76499/76499 [==============================] - 8s 107us/step - loss: 0.0184 - accuracy: 0.9727 - val_loss: 0.0163 - val_accuracy: 0.9795\n",
      "Epoch 46/50\n",
      "76499/76499 [==============================] - 9s 115us/step - loss: 0.0186 - accuracy: 0.9732 - val_loss: 0.0172 - val_accuracy: 0.9804\n",
      "Epoch 47/50\n",
      "76499/76499 [==============================] - 9s 116us/step - loss: 0.0183 - accuracy: 0.9734 - val_loss: 0.0156 - val_accuracy: 0.9748\n",
      "Epoch 48/50\n",
      "76499/76499 [==============================] - 9s 120us/step - loss: 0.0185 - accuracy: 0.9726 - val_loss: 0.0179 - val_accuracy: 0.9742\n",
      "Epoch 49/50\n",
      "76499/76499 [==============================] - 10s 125us/step - loss: 0.0184 - accuracy: 0.9729 - val_loss: 0.0173 - val_accuracy: 0.9669\n",
      "Epoch 50/50\n",
      "76499/76499 [==============================] - 8s 109us/step - loss: 0.0181 - accuracy: 0.9732 - val_loss: 0.0167 - val_accuracy: 0.9728\n",
      "Testing the model:\n",
      "\n",
      "15000/15000 [==============================] - 1s 47us/step\n",
      "\n",
      "Testing Loss =  0.01685838191707929\n",
      "Testing Accuracy =  0.9713333249092102\n"
     ]
    }
   ],
   "source": [
    "## Visualising generated dataset\n",
    "data=pd.read_csv('threeLink.csv')\n",
    "print(data.shape)\n",
    "plt.scatter(data['xe'],data['ye'])\n",
    "plt.show()\n",
    "\n",
    "# splitting training and testing dataset\n",
    "x = data.iloc[:,3:].values\n",
    "y =data.iloc[:,0:3].values\n",
    "x_train,x_test,y_train,y_test = train_test_split(x,y,test_size=0.15)\n",
    "\n",
    "#model\n",
    "classifier = Sequential()\n",
    "classifier.add(Dense(units = 3,input_dim = 3,kernel_initializer = 'uniform'))\n",
    "#classifier.add(keras.layers.Dropout(0.2))\n",
    "\n",
    "classifier.add(Dense(units = 100,kernel_initializer = 'uniform',activation = 'relu'))\n",
    "#classifier.add(keras.layers.Dropout(0.2))\n",
    "classifier.add(Dense(units = 3,kernel_initializer = 'uniform',activation='linear'))\n",
    "classifier.compile(optimizer='adam',loss=tf.keras.losses.MeanSquaredError(),metrics=['accuracy'])\n",
    "\n",
    "#training model\n",
    "history=classifier.fit(x_train,y_train ,epochs=50, validation_split=0.1, shuffle=True)\n",
    "\n",
    "#Evaluating model on testing data \n",
    "print('Testing the model:\\n')\n",
    "test_loss, test_acc = classifier.evaluate(x_test, y_test)\n",
    "\n",
    "print('\\nTesting Loss = ', test_loss) \n",
    "print('Testing Accuracy = ', test_acc)"
   ]
  },
  {
   "cell_type": "code",
   "execution_count": 4,
   "metadata": {},
   "outputs": [
    {
     "data": {
      "text/plain": [
       "<matplotlib.legend.Legend at 0x1522c2cf9b0>"
      ]
     },
     "execution_count": 4,
     "metadata": {},
     "output_type": "execute_result"
    },
    {
     "data": {
      "image/png": "[encoded data removed]",
      "text/plain": [
       "<Figure size 432x288 with 1 Axes>"
      ]
     },
     "metadata": {
      "needs_background": "light"
     },
     "output_type": "display_data"
    }
   ],
   "source": [
    "plt.plot(history.history['accuracy'])\n",
    "plt.plot(history.history['val_accuracy'])\n",
    "plt.title('Model Accuracy')\n",
    "plt.ylabel('Accuracy')\n",
    "plt.xlabel('Epoch')\n",
    "plt.legend(['train', 'val'], loc='upper left')\n",
    "# plt.figure(figsize=(22,22))\n",
    "# plt.show()\n",
    "# plt.savefig('NN-Model Accuracy.png')"
   ]
  },
  {
   "cell_type": "code",
   "execution_count": 5,
   "metadata": {},
   "outputs": [
    {
     "data": {
      "text/plain": [
       "<matplotlib.legend.Legend at 0x1522c311b70>"
      ]
     },
     "execution_count": 5,
     "metadata": {},
     "output_type": "execute_result"
    },
    {
     "data": {
      "image/png": "[encoded data removed]",
      "text/plain": [
       "<Figure size 432x288 with 1 Axes>"
      ]
     },
     "metadata": {
      "needs_background": "light"
     },
     "output_type": "display_data"
    }
   ],
   "source": [
    "plt.plot(history.history['loss'])\n",
    "plt.plot(history.history['val_loss'])\n",
    "plt.title('Model Loss')\n",
    "plt.ylabel('Loss')\n",
    "plt.xlabel('Epoch')\n",
    "plt.legend(['train', 'val'], loc='upper left')\n",
    "# plt.show()\n",
    "# plt.savefig('NN-Model Loss.png')"
   ]
  },
  {
   "cell_type": "code",
   "execution_count": 6,
   "metadata": {},
   "outputs": [
    {
     "data": {
      "text/plain": [
       "<matplotlib.legend.Legend at 0x1522b2b2438>"
      ]
     },
     "execution_count": 6,
     "metadata": {},
     "output_type": "execute_result"
    },
    {
     "data": {
      "image/png": "[encoded data removed]",
      "text/plain": [
       "<Figure size 432x288 with 1 Axes>"
      ]
     },
     "metadata": {
      "needs_background": "light"
     },
     "output_type": "display_data"
    }
   ],
   "source": [
    "## trying to plot \"Circle\"\n",
    "def circleFile():\n",
    "    with open('circle.csv', 'w') as csvFile:\n",
    "        row = ['q1','q2','q3','xe','ye','thetae','t1','t2','t3']\n",
    "        csv.writer(csvFile).writerow(row)\n",
    "        Xc = 10\n",
    "        Yc = 10\n",
    "        r = 5\n",
    "        data_points =100\n",
    "        points = np.linspace(0,360,num =data_points)\n",
    "        for p in points:\n",
    "            i=Xc + r*m.cos(np.radians(p))\n",
    "            j=Yc + r*m.sin(np.radians(p))\n",
    "            theta=m.degrees(m.atan(j/i))\n",
    "            new_x=np.array([[i, j, theta]])\n",
    "            new_y=classifier.predict(new_x)\n",
    "            q1=float(new_y[0][0])\n",
    "            q2=float(new_y[0][1])\n",
    "            q3=float(new_y[0][2])\n",
    "\n",
    "            t3=round(m.degrees(q1)+m.degrees(q2)+m.degrees(q3),2)\n",
    "            t1= round(l1*m.cos(q1)+ l2*m.cos(q1+q2)+ l3*m.cos(q1+q2+q3),2)\n",
    "            t2= round(l1*m.sin(q1)+ l2*m.sin(q1+q2)+ l3*m.sin(q1+q2+q3),2)\n",
    "            \n",
    "            row = [q1,q2,q3,i,j,theta,t1,t2,t3]\n",
    "            #plt.xlim([0,20])\n",
    "            #plt.ylim([0,20])\n",
    "            plt.plot(i,j,'go')\n",
    "            csv.writer(csvFile).writerow(row)\n",
    "                \n",
    "    csvFile.close()\n",
    "    \n",
    "circleFile()\n",
    "\n",
    "def plot_point(point, angle, length):\n",
    "    x, y = point\n",
    "    endy = y + length * m.sin(angle)\n",
    "    endx = x + length * m.cos(angle)\n",
    "    #plt.xlim([0,6])\n",
    "    #plt.ylim([0,6])\n",
    "    #plt.plot([x, endx], [y, endy])\n",
    "    return endx,endy\n",
    "\n",
    "filename = 'circle.csv'\n",
    "data = np.loadtxt(filename, delimiter=\",\", skiprows=1)\n",
    "\n",
    "\n",
    "ang1 = [row[0] for row in data]\n",
    "ang2 = [row[1] for row in data]\n",
    "ang3 = [row[2] for row in data]\n",
    "\n",
    "point = [0,0]\n",
    "c = 1\n",
    "images = []\n",
    "for i in range(len(data)):\n",
    "    #fileName = 'Figure/circle' + str(c) + '.png'\n",
    "    point = plot_point([0,0],ang1[i],l1)\n",
    "    point = plot_point(point,ang1[i]+ang2[i],l2)\n",
    "    point=plot_point(point,ang1[i]+ang2[i]+ang3[i],l3)\n",
    "    plt.xlim([0,20])\n",
    "    plt.ylim([0,20])\n",
    "    plt.plot(point[0],point[1],'bo')\n",
    "    #plot_point(point,ang1[i]+ang2[i]+ang3[i],l3)\n",
    "    #plt.savefig(fileName)\n",
    "    #images.append(img.imread(fileName))\n",
    "    #c = c+1\n",
    "    \n",
    "plt.plot(20, 20, 'b', label='Predicted')\n",
    "plt.plot(20, 20, 'g', label='Actual')\n",
    "plt.title('Plotting using Neural Network')\n",
    "plt.legend(loc='upper left')\n",
    "# plt.savefig('CirclePlot-NN.png')"
   ]
  },
  {
   "cell_type": "code",
   "execution_count": 7,
   "metadata": {},
   "outputs": [],
   "source": [
    "from sklearn.metrics import mean_squared_error\n",
    "\n",
    "def getPerformanceModel(filename):\n",
    "    data=pd.read_csv(filename)\n",
    "\n",
    "    X_true=data['xe']\n",
    "    X_pred=data['t1']\n",
    "    rmse_x=mean_squared_error(X_true,X_pred)\n",
    "\n",
    "    Y_true=data['ye']\n",
    "    Y_pred=data['t2']\n",
    "    rmse_y=mean_squared_error(Y_true,Y_pred) \n",
    "\n",
    "    print('\\nrmse in x = ', rmse_x) \n",
    "    print('rmse in y = ', rmse_y)\n",
    "\n",
    "    ## adjusted rsquared test\n",
    "    regressor_OLS = sm.OLS(endog = X_true, exog = X_pred).fit() \n",
    "    print(regressor_OLS.rsquared_adj)\n",
    "    regressor_OLS = sm.OLS(endog = Y_true, exog = Y_pred).fit() \n",
    "    print(regressor_OLS.rsquared_adj) "
   ]
  },
  {
   "cell_type": "code",
   "execution_count": 8,
   "metadata": {},
   "outputs": [
    {
     "name": "stdout",
     "output_type": "stream",
     "text": [
      "\n",
      "rmse in x =  0.32620924116184896\n",
      "rmse in y =  0.1524492217973024\n",
      "0.9983439764968816\n",
      "0.9987070212319893\n"
     ]
    }
   ],
   "source": [
    "## Performance of Model for Circle\n",
    "getPerformanceModel('circle.csv')"
   ]
  },
  {
   "cell_type": "markdown",
   "metadata": {},
   "source": [
    "### Plotting \"MANIT\""
   ]
  },
  {
   "cell_type": "code",
   "execution_count": 9,
   "metadata": {},
   "outputs": [
    {
     "data": {
      "text/plain": [
       "<matplotlib.legend.Legend at 0x1522b08d208>"
      ]
     },
     "execution_count": 9,
     "metadata": {},
     "output_type": "execute_result"
    },
    {
     "data": {
      "image/png": "[encoded data removed]",
      "text/plain": [
       "<Figure size 432x288 with 1 Axes>"
      ]
     },
     "metadata": {
      "needs_background": "light"
     },
     "output_type": "display_data"
    }
   ],
   "source": [
    "## trying to plot \"MANIT\"   \n",
    "\n",
    "def manitFile():\n",
    "  with open('manit.csv', 'w') as csvFile:\n",
    "        row = ['q1','q2','q3','xe','ye','thetae','t1','t2','t3']\n",
    "        csv.writer(csvFile).writerow(row)\n",
    "\n",
    "        # for M\n",
    "        arr=np.linspace(7,10,100)\n",
    "        for j in arr:\n",
    "            i= 7\n",
    "            theta=m.degrees(m.atan(j/i))\n",
    "            new_x=np.array([[i, j, theta]])\n",
    "            new_y=classifier.predict(new_x)\n",
    "            q1=float(new_y[0][0])\n",
    "            q2=float(new_y[0][1])\n",
    "            q3=float(new_y[0][2])\n",
    "            \n",
    "            t3=round(m.degrees(q1)+m.degrees(q2)+m.degrees(q3),2)\n",
    "            t1= round(l1*m.cos(q1)+ l2*m.cos(q1+q2)+ l3*m.cos(q1+q2+q3),2)\n",
    "            t2= round(l1*m.sin(q1)+ l2*m.sin(q1+q2)+ l3*m.sin(q1+q2+q3),2)\n",
    "            row = [q1,q2,q3,i,j,theta,t1,t2,t3]\n",
    "            plt.plot(i,j,'go')\n",
    "            csv.writer(csvFile).writerow(row)\n",
    "\n",
    "        arr=np.linspace(7,8,100)\n",
    "        for i in arr:\n",
    "            j= -3*i + 31\n",
    "            theta=m.degrees(m.atan(j/i))\n",
    "            new_x=np.array([[i, j, theta]])\n",
    "            new_y=classifier.predict(new_x)\n",
    "            q1=float(new_y[0][0])\n",
    "            q2=float(new_y[0][1])\n",
    "            q3=float(new_y[0][2])\n",
    "            \n",
    "            t3=round(m.degrees(q1)+m.degrees(q2)+m.degrees(q3),2)\n",
    "            t1= round(l1*m.cos(q1)+ l2*m.cos(q1+q2)+ l3*m.cos(q1+q2+q3),2)\n",
    "            t2= round(l1*m.sin(q1)+ l2*m.sin(q1+q2)+ l3*m.sin(q1+q2+q3),2)\n",
    "            row = [q1,q2,q3,i,j,theta,t1,t2,t3]\n",
    "            plt.plot(i,j,'go')\n",
    "            csv.writer(csvFile).writerow(row)\n",
    "\n",
    "        arr=np.linspace(8,9,100)\n",
    "        for i in arr:\n",
    "            j= 3*i - 17\n",
    "            theta=m.degrees(m.atan(j/i))\n",
    "            new_x=np.array([[i, j, theta]])\n",
    "            new_y=classifier.predict(new_x)\n",
    "            q1=float(new_y[0][0])\n",
    "            q2=float(new_y[0][1])\n",
    "            q3=float(new_y[0][2])\n",
    "            \n",
    "            t3=round(m.degrees(q1)+m.degrees(q2)+m.degrees(q3),2)\n",
    "            t1= round(l1*m.cos(q1)+ l2*m.cos(q1+q2)+ l3*m.cos(q1+q2+q3),2)\n",
    "            t2= round(l1*m.sin(q1)+ l2*m.sin(q1+q2)+ l3*m.sin(q1+q2+q3),2)\n",
    "            row = [q1,q2,q3,i,j,theta,t1,t2,t3]\n",
    "            plt.plot(i,j,'go')\n",
    "            csv.writer(csvFile).writerow(row)\n",
    "        \n",
    "        arr=np.linspace(7,10,100)\n",
    "        for j in arr:\n",
    "            i= 9\n",
    "            theta=m.degrees(m.atan(j/i))\n",
    "            new_x=np.array([[i, j, theta]])\n",
    "            new_y=classifier.predict(new_x)\n",
    "            q1=float(new_y[0][0])\n",
    "            q2=float(new_y[0][1])\n",
    "            q3=float(new_y[0][2])\n",
    "\n",
    "            t3=round(m.degrees(q1)+m.degrees(q2)+m.degrees(q3),2)\n",
    "            t1= round(l1*m.cos(q1)+ l2*m.cos(q1+q2)+ l3*m.cos(q1+q2+q3),2)\n",
    "            t2= round(l1*m.sin(q1)+ l2*m.sin(q1+q2)+ l3*m.sin(q1+q2+q3),2)\n",
    "            row = [q1,q2,q3,i,j,theta,t1,t2,t3]\n",
    "            plt.plot(i,j,'go')\n",
    "            csv.writer(csvFile).writerow(row)\n",
    "\n",
    "        # for A\n",
    "        arr=np.linspace(10,11,100)\n",
    "        for i in arr:\n",
    "            j = 3*i - 23\n",
    "            theta=m.degrees(m.atan(j/i))\n",
    "            new_x=np.array([[i, j, theta]])\n",
    "            new_y=classifier.predict(new_x)\n",
    "            q1=float(new_y[0][0])\n",
    "            q2=float(new_y[0][1])\n",
    "            q3=float(new_y[0][2])\n",
    "            \n",
    "            t3=round(m.degrees(q1)+m.degrees(q2)+m.degrees(q3),2)\n",
    "            t1= round(l1*m.cos(q1)+ l2*m.cos(q1+q2)+ l3*m.cos(q1+q2+q3),2)\n",
    "            t2= round(l1*m.sin(q1)+ l2*m.sin(q1+q2)+ l3*m.sin(q1+q2+q3),2)\n",
    "            row = [q1,q2,q3,i,j,theta,t1,t2,t3]\n",
    "            plt.plot(i,j,'go')\n",
    "            csv.writer(csvFile).writerow(row)\n",
    "        \n",
    "        arr=np.linspace(11,12,100)\n",
    "        for i in arr:\n",
    "            j= -3*i + 43\n",
    "            theta=m.degrees(m.atan(j/i))\n",
    "            new_x=np.array([[i, j, theta]])\n",
    "            new_y=classifier.predict(new_x)\n",
    "            q1=float(new_y[0][0])\n",
    "            q2=float(new_y[0][1])\n",
    "            q3=float(new_y[0][2])\n",
    "            \n",
    "            t3=round(m.degrees(q1)+m.degrees(q2)+m.degrees(q3),2)\n",
    "            t1= round(l1*m.cos(q1)+ l2*m.cos(q1+q2)+ l3*m.cos(q1+q2+q3),2)\n",
    "            t2= round(l1*m.sin(q1)+ l2*m.sin(q1+q2)+ l3*m.sin(q1+q2+q3),2)\n",
    "            row = [q1,q2,q3,i,j,theta,t1,t2,t3]\n",
    "            plt.plot(i,j,'go')\n",
    "            csv.writer(csvFile).writerow(row)\n",
    "\n",
    "        arr=np.linspace(10,12,100)\n",
    "        for i in arr:\n",
    "            j = 8\n",
    "            theta=m.degrees(m.atan(j/i))\n",
    "            new_x=np.array([[i, j, theta]])\n",
    "            new_y=classifier.predict(new_x)\n",
    "            q1=float(new_y[0][0])\n",
    "            q2=float(new_y[0][1])\n",
    "            q3=float(new_y[0][2])\n",
    "\n",
    "            t3=round(m.degrees(q1)+m.degrees(q2)+m.degrees(q3),2)\n",
    "            t1= round(l1*m.cos(q1)+ l2*m.cos(q1+q2)+ l3*m.cos(q1+q2+q3),2)\n",
    "            t2= round(l1*m.sin(q1)+ l2*m.sin(q1+q2)+ l3*m.sin(q1+q2+q3),2)\n",
    "            row = [q1,q2,q3,i,j,theta,t1,t2,t3]\n",
    "            plt.plot(i,j,'go')\n",
    "            csv.writer(csvFile).writerow(row)\n",
    "\n",
    "        # for N\n",
    "        arr=np.linspace(7,10,100)\n",
    "        for j in arr:\n",
    "            i= 13\n",
    "            theta=m.degrees(m.atan(j/i))\n",
    "            new_x=np.array([[i, j, theta]])\n",
    "            new_y=classifier.predict(new_x)\n",
    "            q1=float(new_y[0][0])\n",
    "            q2=float(new_y[0][1])\n",
    "            q3=float(new_y[0][2])\n",
    "\n",
    "            t3=round(m.degrees(q1)+m.degrees(q2)+m.degrees(q3),2)\n",
    "            t1= round(l1*m.cos(q1)+ l2*m.cos(q1+q2)+ l3*m.cos(q1+q2+q3),2)\n",
    "            t2= round(l1*m.sin(q1)+ l2*m.sin(q1+q2)+ l3*m.sin(q1+q2+q3),2)\n",
    "\n",
    "            row = [q1,q2,q3,i,j,theta,t1,t2,t3]\n",
    "            plt.plot(i,j,'go')\n",
    "            csv.writer(csvFile).writerow(row)\n",
    "\n",
    "        arr=np.linspace(13,15,100)\n",
    "        for i in arr:\n",
    "            j = -1.5*i + 29.5\n",
    "            theta=m.degrees(m.atan(j/i))\n",
    "            new_x=np.array([[i, j, theta]])\n",
    "            new_y=classifier.predict(new_x)\n",
    "            q1=float(new_y[0][0])\n",
    "            q2=float(new_y[0][1])\n",
    "            q3=float(new_y[0][2])\n",
    "\n",
    "            t3=round(m.degrees(q1)+m.degrees(q2)+m.degrees(q3),2)\n",
    "            t1= round(l1*m.cos(q1)+ l2*m.cos(q1+q2)+ l3*m.cos(q1+q2+q3),2)\n",
    "            t2= round(l1*m.sin(q1)+ l2*m.sin(q1+q2)+ l3*m.sin(q1+q2+q3),2)\n",
    "\n",
    "            row = [q1,q2,q3,i,j,theta,t1,t2,t3]\n",
    "            plt.plot(i,j,'go')\n",
    "            csv.writer(csvFile).writerow(row)\n",
    "        \n",
    "        arr=np.linspace(7,10,100)\n",
    "        for j in arr:\n",
    "            i= 15\n",
    "            theta=m.degrees(m.atan(j/i))\n",
    "            new_x=np.array([[i, j, theta]])\n",
    "            new_y=classifier.predict(new_x)\n",
    "            q1=float(new_y[0][0])\n",
    "            q2=float(new_y[0][1])\n",
    "            q3=float(new_y[0][2])\n",
    "\n",
    "            t3=round(m.degrees(q1)+m.degrees(q2)+m.degrees(q3),2)\n",
    "            t1= round(l1*m.cos(q1)+ l2*m.cos(q1+q2)+ l3*m.cos(q1+q2+q3),2)\n",
    "            t2= round(l1*m.sin(q1)+ l2*m.sin(q1+q2)+ l3*m.sin(q1+q2+q3),2)\n",
    "\n",
    "            row = [q1,q2,q3,i,j,theta,t1,t2,t3]\n",
    "            plt.plot(i,j,'go')\n",
    "            csv.writer(csvFile).writerow(row)\n",
    "\n",
    "\n",
    "        # for I\n",
    "        arr=np.linspace(4,7,100)\n",
    "        for j in arr:\n",
    "            i= 16\n",
    "            theta=m.degrees(m.atan(j/i))\n",
    "            new_x=np.array([[i, j, theta]])\n",
    "            new_y=classifier.predict(new_x)\n",
    "            q1=float(new_y[0][0])\n",
    "            q2=float(new_y[0][1])\n",
    "            q3=float(new_y[0][2])\n",
    "\n",
    "            t3=round(m.degrees(q1)+m.degrees(q2)+m.degrees(q3),2)\n",
    "            t1= round(l1*m.cos(q1)+ l2*m.cos(q1+q2)+ l3*m.cos(q1+q2+q3),2)\n",
    "            t2= round(l1*m.sin(q1)+ l2*m.sin(q1+q2)+ l3*m.sin(q1+q2+q3),2)\n",
    "\n",
    "            row = [q1,q2,q3,i,j,theta,t1,t2,t3]\n",
    "            plt.plot(i,j,'go')\n",
    "            csv.writer(csvFile).writerow(row)\n",
    "        \n",
    "        # for T\n",
    "        arr=np.linspace(7,10,100)\n",
    "        for j in arr:\n",
    "            i= 17\n",
    "            theta=m.degrees(m.atan(j/i))\n",
    "            new_x=np.array([[i, j, theta]])\n",
    "            new_y=classifier.predict(new_x)\n",
    "            q1=float(new_y[0][0])\n",
    "            q2=float(new_y[0][1])\n",
    "            q3=float(new_y[0][2])\n",
    "\n",
    "            t3=round(m.degrees(q1)+m.degrees(q2)+m.degrees(q3),2)\n",
    "            t1= round(l1*m.cos(q1)+ l2*m.cos(q1+q2)+ l3*m.cos(q1+q2+q3),2)\n",
    "            t2= round(l1*m.sin(q1)+ l2*m.sin(q1+q2)+ l3*m.sin(q1+q2+q3),2)\n",
    "\n",
    "            row = [q1,q2,q3,i,j,theta,t1,t2,t3]\n",
    "            plt.plot(i,j,'go')\n",
    "            csv.writer(csvFile).writerow(row)\n",
    "            \n",
    "        arr=np.linspace(16,18,100)\n",
    "        for i in arr:\n",
    "            j=10\n",
    "            theta=m.degrees(m.atan(j/i))\n",
    "            new_x=np.array([[i, j, theta]])\n",
    "            new_y=classifier.predict(new_x)\n",
    "            q1=float(new_y[0][0])\n",
    "            q2=float(new_y[0][1])\n",
    "            q3=float(new_y[0][2])\n",
    "\n",
    "            t3=round(m.degrees(q1)+m.degrees(q2)+m.degrees(q3),2)\n",
    "            t1= round(l1*m.cos(q1)+ l2*m.cos(q1+q2)+ l3*m.cos(q1+q2+q3),2)\n",
    "            t2= round(l1*m.sin(q1)+ l2*m.sin(q1+q2)+ l3*m.sin(q1+q2+q3),2)\n",
    "\n",
    "            row = [q1,q2,q3,i,j,theta,t1,t2,t3]\n",
    "            plt.plot(i,j,'go')\n",
    "            csv.writer(csvFile).writerow(row)\n",
    "\n",
    "  csvFile.close()\n",
    "        \n",
    "    \n",
    "manitFile()\n",
    "\n",
    "def plot_point(point, angle, length):\n",
    "    x, y = point\n",
    "    endy = y + length * m.sin(angle)\n",
    "    endx = x + length * m.cos(angle)\n",
    "    #plt.xlim([0,6])\n",
    "    #plt.ylim([0,6])\n",
    "    #plt.plot([x, endx], [y, endy])\n",
    "    return endx,endy\n",
    "\n",
    "filename = 'manit.csv'\n",
    "data = np.loadtxt(filename, delimiter=\",\", skiprows=1)\n",
    "\n",
    "\n",
    "ang1 = [row[0] for row in data]\n",
    "ang2 = [row[1] for row in data]\n",
    "ang3 = [row[2] for row in data]\n",
    "\n",
    "point = [0,0]\n",
    "c = 1\n",
    "images = []\n",
    "for i in range(len(data)):\n",
    "    #fileName = 'Figure/circle' + str(c) + '.png'\n",
    "    point = plot_point([0,0],ang1[i],l1)\n",
    "    point = plot_point(point,ang1[i]+ang2[i],l2)\n",
    "    point=plot_point(point,ang1[i]+ang2[i]+ang3[i],l3)\n",
    "    plt.xlim([0,22])\n",
    "    plt.ylim([0,22])\n",
    "    plt.plot(point[0],point[1],'bo')\n",
    "    #plot_point(point,ang1[i]+ang2[i]+ang3[i],l3)\n",
    "    #plt.savefig(fileName)\n",
    "    #images.append(img.imread(fileName))\n",
    "    #c = c+1\n",
    "    \n",
    "plt.plot(20, 20, 'b', label='Predicted')\n",
    "plt.plot(20, 20, 'g', label='Actual')\n",
    "plt.title('Plotting using Neural Network')\n",
    "plt.legend(loc='upper left')\n",
    "# plt.savefig('ManitPlot-NN.png')"
   ]
  },
  {
   "cell_type": "code",
   "execution_count": 10,
   "metadata": {},
   "outputs": [
    {
     "name": "stdout",
     "output_type": "stream",
     "text": [
      "\n",
      "rmse in x =  0.5166037316757317\n",
      "rmse in y =  0.25219624009324015\n",
      "0.999464829041273\n",
      "0.9967417968149385\n"
     ]
    }
   ],
   "source": [
    "## Performance of Model for \"MANIT\"\n",
    "getPerformanceModel('manit.csv')"
   ]
  },
  {
   "cell_type": "markdown",
   "metadata": {},
   "source": [
    "### Plotting \"ROBOT\""
   ]
  },
  {
   "cell_type": "code",
   "execution_count": 11,
   "metadata": {},
   "outputs": [],
   "source": [
    "def makeCircle(Xcentre, Ycentre, radius, start, end, csvFile):\n",
    "    Xc = Xcentre\n",
    "    Yc = Ycentre\n",
    "    r = radius\n",
    "    data_points =100\n",
    "    points = np.linspace(start,end,num =data_points)\n",
    "    for p in points:\n",
    "        i=Xc + r*m.cos(np.radians(p))\n",
    "        j=Yc + r*m.sin(np.radians(p))\n",
    "        theta=m.degrees(m.atan(j/i))\n",
    "        new_x=np.array([[i, j, theta]])\n",
    "        new_y=classifier.predict(new_x)\n",
    "        q1=float(new_y[0][0])\n",
    "        q2=float(new_y[0][1])\n",
    "        q3=float(new_y[0][2])\n",
    "\n",
    "        t3=round(m.degrees(q1)+m.degrees(q2)+m.degrees(q3),2)\n",
    "        t1= round(l1*m.cos(q1)+ l2*m.cos(q1+q2)+ l3*m.cos(q1+q2+q3),2)\n",
    "        t2= round(l1*m.sin(q1)+ l2*m.sin(q1+q2)+ l3*m.sin(q1+q2+q3),2)\n",
    "\n",
    "        row = [q1,q2,q3,i,j,theta,t1,t2,t3]\n",
    "        plt.plot(i,j,'go')\n",
    "        csv.writer(csvFile).writerow(row)"
   ]
  },
  {
   "cell_type": "code",
   "execution_count": 12,
   "metadata": {},
   "outputs": [
    {
     "data": {
      "text/plain": [
       "<matplotlib.legend.Legend at 0x153006b2208>"
      ]
     },
     "execution_count": 12,
     "metadata": {},
     "output_type": "execute_result"
    },
    {
     "data": {
      "image/png": "[encoded data removed]",
      "text/plain": [
       "<Figure size 432x288 with 1 Axes>"
      ]
     },
     "metadata": {
      "needs_background": "light"
     },
     "output_type": "display_data"
    }
   ],
   "source": [
    "## trying to plot \"ROBOT\"   \n",
    "\n",
    "def robotFile():\n",
    "  with open('robot.csv', 'w') as csvFile:\n",
    "        row = ['q1','q2','q3','xe','ye','thetae','t1','t2','t3']\n",
    "        csv.writer(csvFile).writerow(row)\n",
    "\n",
    "        # for R\n",
    "        arr=np.linspace(7,10,100)\n",
    "        for j in arr:\n",
    "            i= 5\n",
    "            theta=m.degrees(m.atan(j/i))\n",
    "            new_x=np.array([[i, j, theta]])\n",
    "            new_y=classifier.predict(new_x)\n",
    "            q1=float(new_y[0][0])\n",
    "            q2=float(new_y[0][1])\n",
    "            q3=float(new_y[0][2])\n",
    "            \n",
    "            t3=round(m.degrees(q1)+m.degrees(q2)+m.degrees(q3),2)\n",
    "            t1= round(l1*m.cos(q1)+ l2*m.cos(q1+q2)+ l3*m.cos(q1+q2+q3),2)\n",
    "            t2= round(l1*m.sin(q1)+ l2*m.sin(q1+q2)+ l3*m.sin(q1+q2+q3),2)\n",
    "            row = [q1,q2,q3,i,j,theta,t1,t2,t3]\n",
    "            plt.plot(i,j,'go')\n",
    "            csv.writer(csvFile).writerow(row)\n",
    "        \n",
    "        makeCircle(5, 9, 1, -90, 90, csvFile)\n",
    "\n",
    "        arr=np.linspace(5,6,100)\n",
    "        for i in arr:\n",
    "            j= -i + 13\n",
    "            theta=m.degrees(m.atan(j/i))\n",
    "            new_x=np.array([[i, j, theta]])\n",
    "            new_y=classifier.predict(new_x)\n",
    "            q1=float(new_y[0][0])\n",
    "            q2=float(new_y[0][1])\n",
    "            q3=float(new_y[0][2])\n",
    "            \n",
    "            t3=round(m.degrees(q1)+m.degrees(q2)+m.degrees(q3),2)\n",
    "            t1= round(l1*m.cos(q1)+ l2*m.cos(q1+q2)+ l3*m.cos(q1+q2+q3),2)\n",
    "            t2= round(l1*m.sin(q1)+ l2*m.sin(q1+q2)+ l3*m.sin(q1+q2+q3),2)\n",
    "            row = [q1,q2,q3,i,j,theta,t1,t2,t3]\n",
    "            plt.plot(i,j,'go')\n",
    "            csv.writer(csvFile).writerow(row)\n",
    "\n",
    "        \n",
    "\n",
    "        # for O\n",
    "        \n",
    "        makeCircle(8, 8, 1, 0, 360, csvFile)\n",
    "\n",
    "        # for B\n",
    "        \n",
    "        arr=np.linspace(6,14,100)\n",
    "        for j in arr:\n",
    "            i= 10\n",
    "            theta=m.degrees(m.atan(j/i))\n",
    "            new_x=np.array([[i, j, theta]])\n",
    "            new_y=classifier.predict(new_x)\n",
    "            q1=float(new_y[0][0])\n",
    "            q2=float(new_y[0][1])\n",
    "            q3=float(new_y[0][2])\n",
    "\n",
    "            t3=round(m.degrees(q1)+m.degrees(q2)+m.degrees(q3),2)\n",
    "            t1= round(l1*m.cos(q1)+ l2*m.cos(q1+q2)+ l3*m.cos(q1+q2+q3),2)\n",
    "            t2= round(l1*m.sin(q1)+ l2*m.sin(q1+q2)+ l3*m.sin(q1+q2+q3),2)\n",
    "\n",
    "            row = [q1,q2,q3,i,j,theta,t1,t2,t3]\n",
    "            plt.plot(i,j,'go')\n",
    "            csv.writer(csvFile).writerow(row)\n",
    "        \n",
    "        makeCircle(10, 8, 2, -90, 90, csvFile)\n",
    "        \n",
    "        makeCircle(10, 12, 2, -90, 90, csvFile)\n",
    "        \n",
    "\n",
    "        # for O\n",
    "        \n",
    "        makeCircle(14, 8, 1, 0, 360, csvFile)\n",
    "        \n",
    "        # for T\n",
    "        arr=np.linspace(7,10,100)\n",
    "        for j in arr:\n",
    "            i= 17\n",
    "            theta=m.degrees(m.atan(j/i))\n",
    "            new_x=np.array([[i, j, theta]])\n",
    "            new_y=classifier.predict(new_x)\n",
    "            q1=float(new_y[0][0])\n",
    "            q2=float(new_y[0][1])\n",
    "            q3=float(new_y[0][2])\n",
    "\n",
    "            t3=round(m.degrees(q1)+m.degrees(q2)+m.degrees(q3),2)\n",
    "            t1= round(l1*m.cos(q1)+ l2*m.cos(q1+q2)+ l3*m.cos(q1+q2+q3),2)\n",
    "            t2= round(l1*m.sin(q1)+ l2*m.sin(q1+q2)+ l3*m.sin(q1+q2+q3),2)\n",
    "\n",
    "            row = [q1,q2,q3,i,j,theta,t1,t2,t3]\n",
    "            plt.plot(i,j,'go')\n",
    "            csv.writer(csvFile).writerow(row)\n",
    "            \n",
    "        arr=np.linspace(16,18,100)\n",
    "        for i in arr:\n",
    "            j=10\n",
    "            theta=m.degrees(m.atan(j/i))\n",
    "            new_x=np.array([[i, j, theta]])\n",
    "            new_y=classifier.predict(new_x)\n",
    "            q1=float(new_y[0][0])\n",
    "            q2=float(new_y[0][1])\n",
    "            q3=float(new_y[0][2])\n",
    "\n",
    "            t3=round(m.degrees(q1)+m.degrees(q2)+m.degrees(q3),2)\n",
    "            t1= round(l1*m.cos(q1)+ l2*m.cos(q1+q2)+ l3*m.cos(q1+q2+q3),2)\n",
    "            t2= round(l1*m.sin(q1)+ l2*m.sin(q1+q2)+ l3*m.sin(q1+q2+q3),2)\n",
    "\n",
    "            row = [q1,q2,q3,i,j,theta,t1,t2,t3]\n",
    "            plt.plot(i,j,'go')\n",
    "            csv.writer(csvFile).writerow(row)\n",
    "  csvFile.close()\n",
    "        \n",
    "    \n",
    "robotFile()\n",
    "\n",
    "def plot_point(point, angle, length):\n",
    "    x, y = point\n",
    "    endy = y + length * m.sin(angle)\n",
    "    endx = x + length * m.cos(angle)\n",
    "    #plt.xlim([0,6])\n",
    "    #plt.ylim([0,6])\n",
    "    #plt.plot([x, endx], [y, endy])\n",
    "    return endx,endy\n",
    "\n",
    "filename = 'robot.csv'\n",
    "data = np.loadtxt(filename, delimiter=\",\", skiprows=1)\n",
    "\n",
    "\n",
    "ang1 = [row[0] for row in data]\n",
    "ang2 = [row[1] for row in data]\n",
    "ang3 = [row[2] for row in data]\n",
    "\n",
    "point = [0,0]\n",
    "c = 1\n",
    "images = []\n",
    "for i in range(len(data)):\n",
    "    #fileName = 'Figure/circle' + str(c) + '.png'\n",
    "    point = plot_point([0,0],ang1[i],l1)\n",
    "    point = plot_point(point,ang1[i]+ang2[i],l2)\n",
    "    point=plot_point(point,ang1[i]+ang2[i]+ang3[i],l3)\n",
    "    plt.xlim([0,22])\n",
    "    plt.ylim([0,22])\n",
    "    plt.plot(point[0],point[1],'bo')\n",
    "    #plot_point(point,ang1[i]+ang2[i]+ang3[i],l3)\n",
    "    #plt.savefig(fileName)\n",
    "    #images.append(img.imread(fileName))\n",
    "    #c = c+1\n",
    "\n",
    "# plt.figure(figsize=(22,20))\n",
    "plt.plot(20, 20, 'b', label='Predicted')\n",
    "plt.plot(20, 20, 'g', label='Actual')\n",
    "plt.title('Plotting using Neural Network')\n",
    "plt.legend(loc='upper left')\n",
    "# plt.savefig('RobotPlot-NN.png')"
   ]
  },
  {
   "cell_type": "code",
   "execution_count": 13,
   "metadata": {},
   "outputs": [
    {
     "name": "stdout",
     "output_type": "stream",
     "text": [
      "\n",
      "rmse in x =  0.3940600705156014\n",
      "rmse in y =  0.35200264301175443\n",
      "0.9990908258979435\n",
      "0.9961288157691981\n"
     ]
    }
   ],
   "source": [
    "## Performance of Model for \"Robot\"\n",
    "getPerformanceModel('robot.csv')"
   ]
  },
  {
   "cell_type": "code",
   "execution_count": 38,
   "metadata": {},
   "outputs": [],
   "source": [
    "def plotFromFile(filename, timeTaken):\n",
    "    data = np.loadtxt(filename, delimiter=\",\", skiprows=1)\n",
    "    \n",
    "    x = [row[3:6].tolist() for row in data]\n",
    "    \n",
    "    pred_points = []\n",
    "    \n",
    "    for coord in x:\n",
    "        plt.plot(coord[0], coord[1], 'go')\n",
    "        \n",
    "        new_x=np.array([[coord[0], coord[1], coord[2]]])\n",
    "        now = time.time()\n",
    "\n",
    "        new_y=classifier.predict(new_x)\n",
    "\n",
    "        later = time.time()\n",
    "        \n",
    "        timeTaken += later - now\n",
    "        \n",
    "        q1=float(new_y[0][0])\n",
    "        q2=float(new_y[0][1])\n",
    "        q3=float(new_y[0][2])\n",
    "        \n",
    "        point = plot_point([0,0],q1,l1)\n",
    "        point = plot_point(point,q1+ q2,l2)\n",
    "        point = plot_point(point,q1+ q2 + q3,l3)\n",
    "        \n",
    "        plt.xlim([0,20])\n",
    "        plt.ylim([0,20])\n",
    "        \n",
    "        pred_points.append([point[0],point[1]])\n",
    "#         plt.plot(point[0],point[1],'bo')\n",
    "\n",
    "    for point in pred_points:\n",
    "        plt.plot(point[0],point[1],'bo')\n",
    "    \n",
    "    plt.plot(20, 20, 'b', label='Predicted')\n",
    "    plt.plot(20, 20, 'g', label='Actual')\n",
    "    plt.title('Plotting using Neural Network')\n",
    "    plt.legend(loc='upper left')\n",
    "    \n",
    "    return timeTaken\n",
    "    # plt.savefig('CirclePlot-NN.png')"
   ]
  },
  {
   "cell_type": "code",
   "execution_count": 46,
   "metadata": {},
   "outputs": [
    {
     "name": "stdout",
     "output_type": "stream",
     "text": [
      "Time Taken By NN for IK to Trace 'MANIT': 1.2794907093048096 sec\n"
     ]
    },
    {
     "data": {
      "image/png": "[encoded data removed]",
      "text/plain": [
       "<Figure size 432x288 with 1 Axes>"
      ]
     },
     "metadata": {
      "needs_background": "light"
     },
     "output_type": "display_data"
    }
   ],
   "source": [
    "timeTaken = plotFromFile('manit.csv', 0)\n",
    "print(\"Time Taken By NN for IK to Trace 'MANIT':\", timeTaken, \"sec\")"
   ]
  },
  {
   "cell_type": "code",
   "execution_count": 47,
   "metadata": {},
   "outputs": [
    {
     "name": "stdout",
     "output_type": "stream",
     "text": [
      "Time Taken By NN for IK to Trace 'ROBOT': 0.9808194637298584 sec\n"
     ]
    },
    {
     "data": {
      "image/png": "[encoded data removed]",
      "text/plain": [
       "<Figure size 432x288 with 1 Axes>"
      ]
     },
     "metadata": {
      "needs_background": "light"
     },
     "output_type": "display_data"
    }
   ],
   "source": [
    "timeTaken = plotFromFile('robot.csv', 0)\n",
    "print(\"Time Taken By NN for IK to Trace 'ROBOT':\", timeTaken, \"sec\")"
   ]
  },
  {
   "cell_type": "code",
   "execution_count": 48,
   "metadata": {},
   "outputs": [
    {
     "name": "stdout",
     "output_type": "stream",
     "text": [
      "Time Taken By NN for IK to Trace 'CIRCLE': 0.08733868598937988 sec\n"
     ]
    },
    {
     "data": {
      "image/png": "[encoded data removed]",
      "text/plain": [
       "<Figure size 432x288 with 1 Axes>"
      ]
     },
     "metadata": {
      "needs_background": "light"
     },
     "output_type": "display_data"
    }
   ],
   "source": [
    "timeTaken = plotFromFile('circle.csv', 0)\n",
    "print(\"Time Taken By NN for IK to Trace 'CIRCLE':\", timeTaken, \"sec\")"
   ]
  },
  {
   "cell_type": "code",
   "execution_count": null,
   "metadata": {},
   "outputs": [],
   "source": []
  }
 ],
 "metadata": {
  "kernelspec": {
   "display_name": "Python 3",
   "language": "python",
   "name": "python3"
  },
  "language_info": {
   "codemirror_mode": {
    "name": "ipython",
    "version": 3
   },
   "file_extension": ".py",
   "mimetype": "text/x-python",
   "name": "python",
   "nbconvert_exporter": "python",
   "pygments_lexer": "ipython3",
   "version": "3.6.10"
  }
 },
 "nbformat": 4,
 "nbformat_minor": 4
}
