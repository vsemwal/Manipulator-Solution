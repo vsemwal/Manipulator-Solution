{
 "cells": [
  {
   "cell_type": "code",
   "execution_count": 1,
   "metadata": {},
   "outputs": [],
   "source": [
    "import math as m\n",
    "import random\n",
    "import csv\n",
    "import pandas as pd\n",
    "import numpy as np\n",
    "import matplotlib.pyplot as plt\n",
    "import copy\n",
    "import statsmodels.regression.linear_model as sm"
   ]
  },
  {
   "cell_type": "code",
   "execution_count": 2,
   "metadata": {},
   "outputs": [],
   "source": [
    "# length of manipulators\n",
    "l1 = l2 = l3 = 7\n",
    "n = 4\n",
    "ITERATIONS = 20"
   ]
  },
  {
   "cell_type": "code",
   "execution_count": 3,
   "metadata": {},
   "outputs": [],
   "source": [
    "initial_joint_pos = [[0, 0], [0, l1], [0, l1+l2], [0, l1+l2+l3]]\n",
    "d = [l1, l2, l3]"
   ]
  },
  {
   "cell_type": "code",
   "execution_count": 4,
   "metadata": {},
   "outputs": [],
   "source": [
    "def calculate_distance(p1, p2):\n",
    "    return m.sqrt((p1[0] - p2[0])**2 + (p1[1] - p2[1])**2)"
   ]
  },
  {
   "cell_type": "code",
   "execution_count": 5,
   "metadata": {},
   "outputs": [],
   "source": [
    "def forward_reaching(joint_pos, target):\n",
    "    joint_pos[n-1] = copy.deepcopy(target)\n",
    "    \n",
    "    for i in reversed(range(n-1)):\n",
    "        dist = calculate_distance(joint_pos[i+1], joint_pos[i])\n",
    "        m = d[i]/dist\n",
    "        \n",
    "        joint_pos[i][0] = (1-m)*joint_pos[i+1][0] + m*joint_pos[i][0]\n",
    "        joint_pos[i][1] = (1-m)*joint_pos[i+1][1] + m*joint_pos[i][1]"
   ]
  },
  {
   "cell_type": "code",
   "execution_count": 6,
   "metadata": {},
   "outputs": [],
   "source": [
    "def backward_reaching(joint_pos, b):\n",
    "    joint_pos[0] = copy.deepcopy(b)\n",
    "    \n",
    "    for i in range(n-1):\n",
    "        dist = calculate_distance(joint_pos[i+1], joint_pos[i])\n",
    "        m = d[i]/dist\n",
    "        \n",
    "        joint_pos[i+1][0] = (1-m)*joint_pos[i][0] + m*joint_pos[i+1][0]\n",
    "        joint_pos[i+1][1] = (1-m)*joint_pos[i][1] + m*joint_pos[i+1][1]"
   ]
  },
  {
   "cell_type": "code",
   "execution_count": 7,
   "metadata": {},
   "outputs": [],
   "source": [
    "def fabric(joint_pos, target):\n",
    "#     print(initial_joint_pos)\n",
    "    if(calculate_distance(joint_pos[0], target) > l1 + l2 + l3):\n",
    "        # Target is unreachable.\n",
    "        print(\"Target is unreachable.\")\n",
    "        return\n",
    "    \n",
    "    # Target is reachable.\n",
    "    # Store the initial position of the base joint.\n",
    "    b = copy.deepcopy(joint_pos[0])\n",
    "    \n",
    "    dif = calculate_distance(joint_pos[n-1], target)\n",
    "    \n",
    "    iter = 0\n",
    "    while(dif > 0.01 and iter < ITERATIONS):\n",
    "        # Stage 1: Forward Reaching\n",
    "        forward_reaching(joint_pos, target)\n",
    "        \n",
    "#         print(\"\\nForward Reaching\")\n",
    "#         print(joint_pos[n-1])\n",
    "#         print(joint_pos[0])\n",
    "        \n",
    "        # Stage 2: Backward Reaching\n",
    "        backward_reaching(joint_pos, b)\n",
    "        \n",
    "#         print(\"\\nBackward Reaching\")\n",
    "#         print(joint_pos[n-1])\n",
    "#         print(joint_pos[0])\n",
    "#         print(b)\n",
    "        \n",
    "        dif = calculate_distance(joint_pos[n-1], target)\n",
    "        iter += 1\n",
    "#         print(\"Distance =\", dif)\n",
    "#         print(\"--------------\")"
   ]
  },
  {
   "cell_type": "code",
   "execution_count": 8,
   "metadata": {},
   "outputs": [
    {
     "name": "stdout",
     "output_type": "stream",
     "text": [
      "[[0, 0], [0, 7], [0, 14], [0, 21]]\n"
     ]
    }
   ],
   "source": [
    "joint_pos = copy.deepcopy(initial_joint_pos)\n",
    "print(joint_pos)\n",
    "fabric(joint_pos, [5, 7])"
   ]
  },
  {
   "cell_type": "code",
   "execution_count": 9,
   "metadata": {},
   "outputs": [
    {
     "name": "stdout",
     "output_type": "stream",
     "text": [
      "6.999999999999998\n",
      "7.000000000000001\n",
      "6.999999999999999\n"
     ]
    }
   ],
   "source": [
    "for i in range(3):\n",
    "    print(calculate_distance(joint_pos[i], joint_pos[i+1]))"
   ]
  },
  {
   "cell_type": "code",
   "execution_count": 10,
   "metadata": {},
   "outputs": [],
   "source": [
    "from sklearn.metrics import mean_squared_error\n",
    "\n",
    "def getPerformanceModel(filename):\n",
    "    data=pd.read_csv(filename)\n",
    "\n",
    "    X_true=data['xe']\n",
    "    X_pred=data['t1']\n",
    "    rmse_x=mean_squared_error(X_true,X_pred)\n",
    "\n",
    "    Y_true=data['ye']\n",
    "    Y_pred=data['t2']\n",
    "    rmse_y=mean_squared_error(Y_true,Y_pred) \n",
    "\n",
    "    print('\\nrmse in x = ', rmse_x) \n",
    "    print('rmse in y = ', rmse_y)\n",
    "\n",
    "    ## adjusted rsquared test\n",
    "    regressor_OLS = sm.OLS(endog = X_true, exog = X_pred).fit() \n",
    "    print(regressor_OLS.rsquared_adj)\n",
    "    regressor_OLS = sm.OLS(endog = Y_true, exog = Y_pred).fit() \n",
    "    print(regressor_OLS.rsquared_adj) "
   ]
  },
  {
   "cell_type": "code",
   "execution_count": 11,
   "metadata": {},
   "outputs": [
    {
     "data": {
      "image/png": "[encoded data removed]",
      "text/plain": [
       "<Figure size 432x288 with 1 Axes>"
      ]
     },
     "metadata": {
      "needs_background": "light"
     },
     "output_type": "display_data"
    }
   ],
   "source": [
    "## trying to plot \"Circle\"\n",
    "\n",
    "def circleFabrikFile():\n",
    "    with open('circle_fabrik.csv', 'w') as csvFile:\n",
    "        row = ['xe','ye','thetae','t1','t2','t3']\n",
    "        csv.writer(csvFile).writerow(row)\n",
    "        Xc = 10\n",
    "        Yc = 10\n",
    "        r = 5\n",
    "        data_points =100\n",
    "        points = np.linspace(0,360,num =data_points)\n",
    "        \n",
    "        joint_pos = copy.deepcopy(initial_joint_pos)\n",
    "        print(joint_pos)\n",
    "        \n",
    "        for p in points:\n",
    "            i=Xc + r*m.cos(np.radians(p))\n",
    "            j=Yc + r*m.sin(np.radians(p))\n",
    "            theta=m.degrees(m.atan(j/i))\n",
    "            \n",
    "            # new_x=np.array([[i, j, theta]])\n",
    "            \n",
    "            fabric(joint_pos, [i, j])\n",
    "            \n",
    "            \n",
    "            t1= joint_pos[n-1][0]\n",
    "            t2= joint_pos[n-1][1]\n",
    "            \n",
    "            t3= m.degrees(m.atan(t2/t1))\n",
    "            \n",
    "            row = [i,j,theta,t1,t2,t3]\n",
    "            # plt.xlim([0,20])\n",
    "            # plt.ylim([0,20])\n",
    "            plt.plot(i,j,'go')\n",
    "            csv.writer(csvFile).writerow(row)\n",
    "                \n",
    "    csvFile.close()\n",
    "    \n",
    "# circleFabrikFile()\n",
    "joint_pos = copy.deepcopy(initial_joint_pos)\n",
    "filename = 'circle_fabrik.csv'\n",
    "data = np.loadtxt(filename, delimiter=\",\", skiprows=1)\n",
    "\n",
    "actual_coordinates = [row[0:2].tolist() for row in data]\n",
    "\n",
    "for coord in actual_coordinates:\n",
    "    plt.plot(coord[0], coord[1], 'go')\n",
    "\n",
    "pred_coordinates = [row[3:5].tolist() for row in data]\n",
    "\n",
    "for coord in pred_coordinates:\n",
    "    plt.plot(coord[0], coord[1], 'bo')\n",
    "\n",
    "plt.xlim([0,20])\n",
    "plt.ylim([0,20])\n",
    "plt.plot(20, 20, 'b', label='Predicted')\n",
    "plt.plot(20, 20, 'g', label='Actual')\n",
    "plt.title('Plotting using FABRIK')\n",
    "plt.legend(loc='upper left')\n",
    "plt.savefig('Fabrik-CirclePlot.png')"
   ]
  },
  {
   "cell_type": "code",
   "execution_count": 12,
   "metadata": {},
   "outputs": [
    {
     "name": "stdout",
     "output_type": "stream",
     "text": [
      "\n",
      "rmse in x =  1.5812985749035916e-05\n",
      "rmse in y =  5.992965895489817e-06\n",
      "0.999999861673314\n",
      "0.9999999602760429\n"
     ]
    }
   ],
   "source": [
    "getPerformanceModel('circle_fabrik.csv')"
   ]
  },
  {
   "cell_type": "code",
   "execution_count": 13,
   "metadata": {},
   "outputs": [],
   "source": [
    "def plotFile(filename, X_pred, Y_pred):\n",
    "    joint_pos = copy.deepcopy(initial_joint_pos)\n",
    "#     filename = 'manit.csv'\n",
    "    data = np.loadtxt(filename, delimiter=\",\", skiprows=1)\n",
    "\n",
    "    actual_coordinates = [row[3:5].tolist() for row in data]\n",
    "\n",
    "    for coord in actual_coordinates:\n",
    "        plt.plot(coord[0], coord[1], 'go')\n",
    "\n",
    "        fabric(joint_pos, coord)\n",
    "\n",
    "        plt.plot(joint_pos[n-1][0], joint_pos[n-1][1], 'bo')\n",
    "\n",
    "        X_pred.append(joint_pos[n-1][0])\n",
    "        Y_pred.append(joint_pos[n-1][1])\n",
    "\n",
    "    plt.xlim([0,22])\n",
    "    plt.ylim([0,22])\n",
    "    plt.plot(20, 20, 'b', label='Predicted')\n",
    "    plt.plot(20, 20, 'g', label='Actual')\n",
    "    plt.title('Plotting using FABRIK')\n",
    "    plt.legend(loc='upper left')\n",
    "#     plt.savefig('Fabrik-Robot.png')"
   ]
  },
  {
   "cell_type": "code",
   "execution_count": 14,
   "metadata": {},
   "outputs": [],
   "source": [
    "# Performance on \"MANIT\"\n",
    "def getRMSE(filename, xPredicted, yPredicted):\n",
    "    data = pd.read_csv(filename)\n",
    "    X_true = data['xe']\n",
    "    X_pred = pd.Series(xPredicted) \n",
    "    rmse_x=mean_squared_error(X_true,X_pred)\n",
    "\n",
    "    Y_true = data['ye']\n",
    "    Y_pred = pd.Series(yPredicted) \n",
    "    rmse_y=mean_squared_error(Y_true,Y_pred) \n",
    "\n",
    "    print('RMSE in x = ', rmse_x) \n",
    "    print('RMSE in y = ', rmse_y)"
   ]
  },
  {
   "cell_type": "code",
   "execution_count": 15,
   "metadata": {},
   "outputs": [
    {
     "data": {
      "image/png": "[encoded data removed]",
      "text/plain": [
       "<Figure size 432x288 with 1 Axes>"
      ]
     },
     "metadata": {
      "needs_background": "light"
     },
     "output_type": "display_data"
    }
   ],
   "source": [
    "X_pred = []\n",
    "Y_pred = []\n",
    "\n",
    "plotFile('manit.csv', X_pred, Y_pred)"
   ]
  },
  {
   "cell_type": "code",
   "execution_count": 16,
   "metadata": {},
   "outputs": [
    {
     "name": "stdout",
     "output_type": "stream",
     "text": [
      "RMSE in x =  1.033734226999892e-05\n",
      "RMSE in y =  1.285064602793001e-06\n"
     ]
    }
   ],
   "source": [
    "getRMSE('manit.csv', X_pred, Y_pred)"
   ]
  },
  {
   "cell_type": "code",
   "execution_count": 17,
   "metadata": {},
   "outputs": [
    {
     "data": {
      "image/png": "[encoded data removed]",
      "text/plain": [
       "<Figure size 432x288 with 1 Axes>"
      ]
     },
     "metadata": {
      "needs_background": "light"
     },
     "output_type": "display_data"
    }
   ],
   "source": [
    "X_pred = []\n",
    "Y_pred = []\n",
    "\n",
    "plotFile('robot.csv', X_pred, Y_pred)"
   ]
  },
  {
   "cell_type": "code",
   "execution_count": 18,
   "metadata": {},
   "outputs": [
    {
     "name": "stdout",
     "output_type": "stream",
     "text": [
      "RMSE in x =  1.5450325671019387e-05\n",
      "RMSE in y =  7.302049992124614e-06\n"
     ]
    }
   ],
   "source": [
    "getRMSE('robot.csv', X_pred, Y_pred)"
   ]
  },
  {
   "cell_type": "markdown",
   "metadata": {},
   "source": [
    "## Calculating Average Number of Iterations Required"
   ]
  },
  {
   "cell_type": "code",
   "execution_count": 19,
   "metadata": {},
   "outputs": [],
   "source": [
    "def fabric_other(joint_pos, target):\n",
    "    if(calculate_distance(joint_pos[0], target) > l1 + l2 + l3):\n",
    "        # Target is unreachable.\n",
    "        print(\"Target is unreachable.\")\n",
    "        return\n",
    "    \n",
    "    # Target is reachable.\n",
    "    # Store the initial position of the base joint.\n",
    "    b = copy.deepcopy(joint_pos[0])\n",
    "    \n",
    "    dif = calculate_distance(joint_pos[n-1], target)\n",
    "    \n",
    "    iter = 0\n",
    "    while(dif > 0.01):\n",
    "        # Stage 1: Forward Reaching\n",
    "        forward_reaching(joint_pos, target)\n",
    "        \n",
    "        # Stage 2: Backward Reaching\n",
    "        backward_reaching(joint_pos, b)\n",
    "        \n",
    "        dif = calculate_distance(joint_pos[n-1], target)\n",
    "        iter += 1\n",
    "    \n",
    "    return iter"
   ]
  },
  {
   "cell_type": "code",
   "execution_count": 20,
   "metadata": {},
   "outputs": [],
   "source": [
    "def avgIterationForFile(filename, X_pred, Y_pred):\n",
    "    data = np.loadtxt(filename, delimiter=\",\", skiprows=1)\n",
    "\n",
    "    actual_coordinates = [row[3:5].tolist() for row in data]\n",
    "    \n",
    "    sum = 0\n",
    "    num_coordinates = 0\n",
    "    for coord in actual_coordinates:\n",
    "        joint_pos = copy.deepcopy(initial_joint_pos)\n",
    "        \n",
    "        plt.plot(coord[0], coord[1], 'go')\n",
    "\n",
    "        iter = float(fabric_other(joint_pos, coord))\n",
    "        sum += iter\n",
    "#         print(iter)\n",
    "\n",
    "        plt.plot(joint_pos[n-1][0], joint_pos[n-1][1], 'bo')\n",
    "\n",
    "        X_pred.append(joint_pos[n-1][0])\n",
    "        Y_pred.append(joint_pos[n-1][1])\n",
    "        num_coordinates += 1\n",
    "    \n",
    "#     num_coordinates = float(len(actual_coordinates))\n",
    "    plt.xlim([0,22])\n",
    "    plt.ylim([0,22])\n",
    "    plt.plot(20, 20, 'b', label='Predicted')\n",
    "    plt.plot(20, 20, 'g', label='Actual')\n",
    "    plt.title('Plotting using FABRIK')\n",
    "    plt.legend(loc='upper left')\n",
    "#     plt.savefig('Fabrik-Robot.png')\n",
    "    \n",
    "    print(sum)\n",
    "    print(num_coordinates)\n",
    "    \n",
    "    return sum/num_coordinates "
   ]
  },
  {
   "cell_type": "code",
   "execution_count": 21,
   "metadata": {},
   "outputs": [
    {
     "name": "stdout",
     "output_type": "stream",
     "text": [
      "5377.0\n",
      "1300\n"
     ]
    },
    {
     "data": {
      "text/plain": [
       "4.136153846153846"
      ]
     },
     "execution_count": 21,
     "metadata": {},
     "output_type": "execute_result"
    },
    {
     "data": {
      "image/png": "[encoded data removed]",
      "text/plain": [
       "<Figure size 432x288 with 1 Axes>"
      ]
     },
     "metadata": {
      "needs_background": "light"
     },
     "output_type": "display_data"
    }
   ],
   "source": [
    "# Average Iterations for \"MANIT\"\n",
    "X_pred = []\n",
    "Y_pred = []\n",
    "\n",
    "avgIterationForFile('manit.csv', X_pred, Y_pred)"
   ]
  },
  {
   "cell_type": "code",
   "execution_count": 22,
   "metadata": {},
   "outputs": [
    {
     "name": "stdout",
     "output_type": "stream",
     "text": [
      "5204.0\n",
      "1000\n"
     ]
    },
    {
     "data": {
      "text/plain": [
       "5.204"
      ]
     },
     "execution_count": 22,
     "metadata": {},
     "output_type": "execute_result"
    },
    {
     "data": {
      "image/png": "[encoded data removed]",
      "text/plain": [
       "<Figure size 432x288 with 1 Axes>"
      ]
     },
     "metadata": {
      "needs_background": "light"
     },
     "output_type": "display_data"
    }
   ],
   "source": [
    "# Average Iterations for \"ROBOT\"\n",
    "X_pred = []\n",
    "Y_pred = []\n",
    "\n",
    "avgIterationForFile('robot.csv', X_pred, Y_pred)"
   ]
  },
  {
   "cell_type": "code",
   "execution_count": null,
   "metadata": {},
   "outputs": [],
   "source": []
  }
 ],
 "metadata": {
  "kernelspec": {
   "display_name": "Python 3",
   "language": "python",
   "name": "python3"
  },
  "language_info": {
   "codemirror_mode": {
    "name": "ipython",
    "version": 3
   },
   "file_extension": ".py",
   "mimetype": "text/x-python",
   "name": "python",
   "nbconvert_exporter": "python",
   "pygments_lexer": "ipython3",
   "version": "3.6.10"
  }
 },
 "nbformat": 4,
 "nbformat_minor": 4
}
